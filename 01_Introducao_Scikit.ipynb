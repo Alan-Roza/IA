{
  "cells": [
    {
      "cell_type": "markdown",
      "metadata": {
        "id": "view-in-github",
        "colab_type": "text"
      },
      "source": [
        "<a href=\"https://colab.research.google.com/github/Alan-Roza/IA/blob/main/01_Introducao_Scikit.ipynb\" target=\"_parent\"><img src=\"https://colab.research.google.com/assets/colab-badge.svg\" alt=\"Open In Colab\"/></a>"
      ]
    },
    {
      "cell_type": "markdown",
      "metadata": {
        "id": "F5oAAQkwtqha"
      },
      "source": [
        "# Aula 01 - Introdução ao Scikit-Learn\n",
        "#### Material baseado no livro \"Practical Machine Learning with Python\" Sarkar, D. (et al.) (2018)\n",
        "\n",
        "---\n",
        "\n",
        "# Numpy\n",
        "## Arrays"
      ]
    },
    {
      "cell_type": "code",
      "execution_count": 1,
      "metadata": {
        "colab": {
          "base_uri": "https://localhost:8080/"
        },
        "id": "sqXJ7Ijjtqhd",
        "outputId": "fc9c5497-4cab-4081-ad1a-cf90e9832a66"
      },
      "outputs": [
        {
          "output_type": "execute_result",
          "data": {
            "text/plain": [
              "array([1, 3, 4, 5, 6])"
            ]
          },
          "metadata": {},
          "execution_count": 1
        }
      ],
      "source": [
        "import numpy as np\n",
        "arr = np.array([1,3,4,5,6])\n",
        "arr"
      ]
    },
    {
      "cell_type": "code",
      "execution_count": 2,
      "metadata": {
        "colab": {
          "base_uri": "https://localhost:8080/"
        },
        "id": "U_snglwCtqhf",
        "outputId": "c52102c8-3272-44ed-ffc7-4757697b8968"
      },
      "outputs": [
        {
          "output_type": "execute_result",
          "data": {
            "text/plain": [
              "(5,)"
            ]
          },
          "metadata": {},
          "execution_count": 2
        }
      ],
      "source": [
        "arr.shape"
      ]
    },
    {
      "cell_type": "code",
      "execution_count": 3,
      "metadata": {
        "colab": {
          "base_uri": "https://localhost:8080/"
        },
        "id": "Aw-DWb6Stqhf",
        "outputId": "acf90fac-9a25-4c21-a22d-1d8c3cebe6cb"
      },
      "outputs": [
        {
          "output_type": "execute_result",
          "data": {
            "text/plain": [
              "dtype('int64')"
            ]
          },
          "metadata": {},
          "execution_count": 3
        }
      ],
      "source": [
        "arr.dtype"
      ]
    },
    {
      "cell_type": "code",
      "execution_count": 4,
      "metadata": {
        "colab": {
          "base_uri": "https://localhost:8080/"
        },
        "id": "xhOfMH9Htqhg",
        "outputId": "7ca11ce1-c1c3-4639-8130-cae79e2f53d6"
      },
      "outputs": [
        {
          "output_type": "execute_result",
          "data": {
            "text/plain": [
              "dtype('<U21')"
            ]
          },
          "metadata": {},
          "execution_count": 4
        }
      ],
      "source": [
        "arr = np.array([1,'st','er',3])\n",
        "arr.dtype"
      ]
    },
    {
      "cell_type": "code",
      "execution_count": null,
      "metadata": {
        "id": "ucRyoms6tqhg"
      },
      "outputs": [],
      "source": [
        "#np.sum(arr)"
      ]
    },
    {
      "cell_type": "markdown",
      "metadata": {
        "id": "iSxNKpAXtqhh"
      },
      "source": [
        "### Creating arrays"
      ]
    },
    {
      "cell_type": "code",
      "execution_count": 5,
      "metadata": {
        "colab": {
          "base_uri": "https://localhost:8080/"
        },
        "id": "FNDj0i-3tqhh",
        "outputId": "89f5e09e-1bdb-4a5e-a649-33185762524c"
      },
      "outputs": [
        {
          "output_type": "execute_result",
          "data": {
            "text/plain": [
              "(3, 3)"
            ]
          },
          "metadata": {},
          "execution_count": 5
        }
      ],
      "source": [
        "arr = np.array([[1,2,3],[2,4,6],[8,8,8]])\n",
        "arr.shape"
      ]
    },
    {
      "cell_type": "code",
      "execution_count": 6,
      "metadata": {
        "colab": {
          "base_uri": "https://localhost:8080/"
        },
        "id": "lEnMxROgtqhh",
        "outputId": "f6b0f034-7ad6-4f64-a771-a4ea63d0f594"
      },
      "outputs": [
        {
          "output_type": "execute_result",
          "data": {
            "text/plain": [
              "array([[1, 2, 3],\n",
              "       [2, 4, 6],\n",
              "       [8, 8, 8]])"
            ]
          },
          "metadata": {},
          "execution_count": 6
        }
      ],
      "source": [
        "arr"
      ]
    },
    {
      "cell_type": "code",
      "execution_count": 7,
      "metadata": {
        "colab": {
          "base_uri": "https://localhost:8080/"
        },
        "id": "y_b0EnGntqhi",
        "outputId": "a4650842-970b-41e2-a93d-3a8d38d3515c"
      },
      "outputs": [
        {
          "output_type": "execute_result",
          "data": {
            "text/plain": [
              "array([[0., 0., 0., 0.],\n",
              "       [0., 0., 0., 0.]])"
            ]
          },
          "metadata": {},
          "execution_count": 7
        }
      ],
      "source": [
        "arr = np.zeros((2,4))\n",
        "arr"
      ]
    },
    {
      "cell_type": "code",
      "execution_count": 8,
      "metadata": {
        "colab": {
          "base_uri": "https://localhost:8080/"
        },
        "id": "zorbDAsftqhi",
        "outputId": "353f8d36-c455-485d-d792-2a1318464646"
      },
      "outputs": [
        {
          "output_type": "execute_result",
          "data": {
            "text/plain": [
              "array([[1., 1., 1., 1.],\n",
              "       [1., 1., 1., 1.]])"
            ]
          },
          "metadata": {},
          "execution_count": 8
        }
      ],
      "source": [
        "arr = np.ones((2,4))\n",
        "arr"
      ]
    },
    {
      "cell_type": "code",
      "execution_count": 9,
      "metadata": {
        "colab": {
          "base_uri": "https://localhost:8080/"
        },
        "id": "x328Ug_Stqhi",
        "outputId": "7bc1152a-2ce6-4948-dee9-4328036a3bef"
      },
      "outputs": [
        {
          "output_type": "execute_result",
          "data": {
            "text/plain": [
              "array([[1., 0., 0.],\n",
              "       [0., 1., 0.],\n",
              "       [0., 0., 1.]])"
            ]
          },
          "metadata": {},
          "execution_count": 9
        }
      ],
      "source": [
        "arr = np.identity(3)\n",
        "arr"
      ]
    },
    {
      "cell_type": "markdown",
      "source": [
        "Random based on normal curve (n from randn)"
      ],
      "metadata": {
        "id": "HseEl03ZwQ-V"
      }
    },
    {
      "cell_type": "code",
      "execution_count": 10,
      "metadata": {
        "colab": {
          "base_uri": "https://localhost:8080/"
        },
        "id": "U6gbKRtntqhj",
        "outputId": "10b0d3f2-18d6-4d11-ea9c-c21324b11f11"
      },
      "outputs": [
        {
          "output_type": "execute_result",
          "data": {
            "text/plain": [
              "array([[ 1.95445154, -0.05615093,  1.1001374 ,  1.12270231],\n",
              "       [ 1.49317109, -1.32970062, -0.8297254 , -0.14800251],\n",
              "       [ 0.55412326,  0.98597983,  0.35465754, -0.09121396]])"
            ]
          },
          "metadata": {},
          "execution_count": 10
        }
      ],
      "source": [
        "arr = np.random.randn(3,4)\n",
        "arr"
      ]
    },
    {
      "cell_type": "markdown",
      "metadata": {
        "id": "mGWtgCGRtqhj"
      },
      "source": [
        "### Accessing array elements\n",
        "#### Simple indexing"
      ]
    },
    {
      "cell_type": "code",
      "execution_count": 11,
      "metadata": {
        "colab": {
          "base_uri": "https://localhost:8080/"
        },
        "id": "UvBE47Gwtqhj",
        "outputId": "8db9877a-f8b4-45d9-a184-e036a5a7796a"
      },
      "outputs": [
        {
          "output_type": "execute_result",
          "data": {
            "text/plain": [
              "array([ 1.49317109, -1.32970062, -0.8297254 , -0.14800251])"
            ]
          },
          "metadata": {},
          "execution_count": 11
        }
      ],
      "source": [
        "arr[1]"
      ]
    },
    {
      "cell_type": "markdown",
      "source": [
        "arange(12) sequence between 0 to 12 creating an array;\n",
        "reshape is used to change dimensions of shape of the array"
      ],
      "metadata": {
        "id": "6nvqcrRUxgWg"
      }
    },
    {
      "cell_type": "code",
      "execution_count": 12,
      "metadata": {
        "colab": {
          "base_uri": "https://localhost:8080/"
        },
        "id": "AwRHCozktqhj",
        "outputId": "22a8cf10-5e5f-4c6f-9008-c2089b19714a"
      },
      "outputs": [
        {
          "output_type": "execute_result",
          "data": {
            "text/plain": [
              "array([[[ 0,  1,  2],\n",
              "        [ 3,  4,  5]],\n",
              "\n",
              "       [[ 6,  7,  8],\n",
              "        [ 9, 10, 11]]])"
            ]
          },
          "metadata": {},
          "execution_count": 12
        }
      ],
      "source": [
        "arr = np.arange(12).reshape(2,2,3)\n",
        "arr"
      ]
    },
    {
      "cell_type": "code",
      "execution_count": null,
      "metadata": {
        "id": "CmahczF4tqhk"
      },
      "outputs": [],
      "source": [
        "arr[0]"
      ]
    },
    {
      "cell_type": "markdown",
      "source": [
        "Its a slice. arr[from:to]"
      ],
      "metadata": {
        "id": "HDJta8S2yamV"
      }
    },
    {
      "cell_type": "code",
      "execution_count": null,
      "metadata": {
        "id": "-IWokW50tqhk"
      },
      "outputs": [],
      "source": [
        "arr = np.arange(10)\n",
        "arr[5:]\n"
      ]
    },
    {
      "cell_type": "markdown",
      "source": [
        "Get all data between 5 and 8 index from arr"
      ],
      "metadata": {
        "id": "oyU3PnSRy6mu"
      }
    },
    {
      "cell_type": "code",
      "execution_count": null,
      "metadata": {
        "id": "Ms-AIV0Stqhk"
      },
      "outputs": [],
      "source": [
        "arr[5:8]"
      ]
    },
    {
      "cell_type": "markdown",
      "source": [
        "Get the last 5 index from arr"
      ],
      "metadata": {
        "id": "LFO0LaItzDJE"
      }
    },
    {
      "cell_type": "code",
      "execution_count": null,
      "metadata": {
        "id": "IGl-Y044tqhk"
      },
      "outputs": [],
      "source": [
        "arr[:-5]"
      ]
    },
    {
      "cell_type": "code",
      "execution_count": null,
      "metadata": {
        "id": "a4xWv0_btqhk"
      },
      "outputs": [],
      "source": [
        "arr = np.arange(12).reshape(2,2,3)\n",
        "arr"
      ]
    },
    {
      "cell_type": "code",
      "execution_count": null,
      "metadata": {
        "id": "ULrQuebPtqhl"
      },
      "outputs": [],
      "source": [
        "arr[1:2]"
      ]
    },
    {
      "cell_type": "code",
      "execution_count": null,
      "metadata": {
        "id": "2UV9oseytqhl"
      },
      "outputs": [],
      "source": [
        "arr = np.arange(27).reshape(3,3,3)\n",
        "arr"
      ]
    },
    {
      "cell_type": "markdown",
      "source": [
        "get third dimension from arr"
      ],
      "metadata": {
        "id": "sAnU2qFbzLpr"
      }
    },
    {
      "cell_type": "code",
      "execution_count": null,
      "metadata": {
        "id": "reGldwZTtqhl"
      },
      "outputs": [],
      "source": [
        "arr[:,:,2]"
      ]
    },
    {
      "cell_type": "code",
      "execution_count": null,
      "metadata": {
        "id": "JLXyTfGstqhl"
      },
      "outputs": [],
      "source": [
        "arr[...,2]"
      ]
    },
    {
      "cell_type": "markdown",
      "metadata": {
        "id": "OLD3HsGMtqhl"
      },
      "source": [
        "#### Advanced Indexing"
      ]
    },
    {
      "cell_type": "code",
      "execution_count": 13,
      "metadata": {
        "colab": {
          "base_uri": "https://localhost:8080/"
        },
        "id": "jYAKk4w5tqhm",
        "outputId": "a1aa73a9-8be3-4f54-efc3-bf160c58902b"
      },
      "outputs": [
        {
          "output_type": "execute_result",
          "data": {
            "text/plain": [
              "array([[0, 1, 2],\n",
              "       [3, 4, 5],\n",
              "       [6, 7, 8]])"
            ]
          },
          "metadata": {},
          "execution_count": 13
        }
      ],
      "source": [
        "arr = np.arange(9).reshape(3,3)\n",
        "arr"
      ]
    },
    {
      "cell_type": "code",
      "execution_count": 14,
      "metadata": {
        "colab": {
          "base_uri": "https://localhost:8080/"
        },
        "id": "yRGtcO-Xtqhm",
        "outputId": "2b0b4e0c-027f-4d01-d835-60f6fc1d6a59"
      },
      "outputs": [
        {
          "output_type": "execute_result",
          "data": {
            "text/plain": [
              "array([1, 3, 6])"
            ]
          },
          "metadata": {},
          "execution_count": 14
        }
      ],
      "source": [
        "arr[[0,1,2],[1,0,0]]"
      ]
    },
    {
      "cell_type": "markdown",
      "metadata": {
        "id": "LB1QFhFWtqhm"
      },
      "source": [
        "##### Boolean Indexing"
      ]
    },
    {
      "cell_type": "code",
      "execution_count": 15,
      "metadata": {
        "colab": {
          "base_uri": "https://localhost:8080/"
        },
        "id": "Yd1kPQfxtqhm",
        "outputId": "f7d0a4d2-425e-427f-9fe1-01d0dfa11544"
      },
      "outputs": [
        {
          "output_type": "execute_result",
          "data": {
            "text/plain": [
              "array([[-0.64178375,  0.6684717 ,  0.27264215],\n",
              "       [ 0.19787513, -0.10477848, -0.21984104],\n",
              "       [ 0.4181542 , -1.36056957, -0.20541018],\n",
              "       [-0.37674228, -0.11698533, -0.14982545],\n",
              "       [ 0.39878468,  0.01556141,  0.54892498]])"
            ]
          },
          "metadata": {},
          "execution_count": 15
        }
      ],
      "source": [
        "cities = np.array([\"delhi\",\"banglaore\",\"mumbai\",\"chennai\",\"bhopal\"])\n",
        "city_data = np.random.randn(5,3)\n",
        "city_data"
      ]
    },
    {
      "cell_type": "markdown",
      "source": [
        "boolean array is called mask and is inserted inside the index of arrays"
      ],
      "metadata": {
        "id": "XDTRqiNG0LoK"
      }
    },
    {
      "cell_type": "code",
      "execution_count": 16,
      "metadata": {
        "colab": {
          "base_uri": "https://localhost:8080/"
        },
        "id": "2x5mAQZUtqhm",
        "outputId": "0ce5964d-1936-407e-c294-9f6f5db910a1"
      },
      "outputs": [
        {
          "output_type": "execute_result",
          "data": {
            "text/plain": [
              "array([[-0.64178375,  0.6684717 ,  0.27264215]])"
            ]
          },
          "metadata": {},
          "execution_count": 16
        }
      ],
      "source": [
        "city_data[cities ==\"delhi\"]"
      ]
    },
    {
      "cell_type": "markdown",
      "source": [
        "set all values up to some value is set to 0, for example. Its used to remove outliers"
      ],
      "metadata": {
        "id": "aMaDNdEM1DXX"
      }
    },
    {
      "cell_type": "code",
      "execution_count": 17,
      "metadata": {
        "colab": {
          "base_uri": "https://localhost:8080/"
        },
        "id": "Da1p_SXFtqhm",
        "outputId": "b3b6005e-98a0-4bf0-d721-ff08338183e1"
      },
      "outputs": [
        {
          "output_type": "execute_result",
          "data": {
            "text/plain": [
              "array([0.6684717 , 0.27264215, 0.19787513, 0.4181542 , 0.39878468,\n",
              "       0.01556141, 0.54892498])"
            ]
          },
          "metadata": {},
          "execution_count": 17
        }
      ],
      "source": [
        "city_data[city_data >0]"
      ]
    },
    {
      "cell_type": "code",
      "execution_count": 18,
      "metadata": {
        "colab": {
          "base_uri": "https://localhost:8080/"
        },
        "id": "ttbPIAhftqhm",
        "outputId": "e9cb14de-e777-49c6-94d2-5b264e8868d8"
      },
      "outputs": [
        {
          "output_type": "execute_result",
          "data": {
            "text/plain": [
              "array([[-0.64178375,  0.        ,  0.        ],\n",
              "       [ 0.        , -0.10477848, -0.21984104],\n",
              "       [ 0.        , -1.36056957, -0.20541018],\n",
              "       [-0.37674228, -0.11698533, -0.14982545],\n",
              "       [ 0.        ,  0.        ,  0.        ]])"
            ]
          },
          "metadata": {},
          "execution_count": 18
        }
      ],
      "source": [
        "city_data[city_data >0] = 0\n",
        "city_data\n"
      ]
    },
    {
      "cell_type": "markdown",
      "metadata": {
        "id": "hWnaTJ9Ntqhm"
      },
      "source": [
        "#### Operations on arrays"
      ]
    },
    {
      "cell_type": "code",
      "execution_count": 20,
      "metadata": {
        "colab": {
          "base_uri": "https://localhost:8080/"
        },
        "id": "k6tdtZeztqhn",
        "outputId": "aead14d2-46bf-44cd-ba82-a9ccbbad04f5"
      },
      "outputs": [
        {
          "output_type": "execute_result",
          "data": {
            "text/plain": [
              "array([[ 0,  1,  2,  3,  4],\n",
              "       [ 5,  6,  7,  8,  9],\n",
              "       [10, 11, 12, 13, 14]])"
            ]
          },
          "metadata": {},
          "execution_count": 20
        }
      ],
      "source": [
        "arr = np.arange(15).reshape(3,5)\n",
        "arr"
      ]
    },
    {
      "cell_type": "code",
      "execution_count": null,
      "metadata": {
        "id": "lual4Yhbtqhn"
      },
      "outputs": [],
      "source": [
        "arr + 5"
      ]
    },
    {
      "cell_type": "markdown",
      "source": [
        "multiple all index from arr for 2"
      ],
      "metadata": {
        "id": "s2N0fEDf1mNg"
      }
    },
    {
      "cell_type": "code",
      "execution_count": 21,
      "metadata": {
        "colab": {
          "base_uri": "https://localhost:8080/"
        },
        "id": "O-BJDsYltqhn",
        "outputId": "cb2acb72-11ee-44b4-d6dd-927d2ebbb44c"
      },
      "outputs": [
        {
          "output_type": "execute_result",
          "data": {
            "text/plain": [
              "array([[ 0,  2,  4,  6,  8],\n",
              "       [10, 12, 14, 16, 18],\n",
              "       [20, 22, 24, 26, 28]])"
            ]
          },
          "metadata": {},
          "execution_count": 21
        }
      ],
      "source": [
        "arr * 2"
      ]
    },
    {
      "cell_type": "markdown",
      "source": [
        "arr2 + arr1 its a sum of matriz"
      ],
      "metadata": {
        "id": "iMC9CkWs11m1"
      }
    },
    {
      "cell_type": "code",
      "execution_count": null,
      "metadata": {
        "id": "ftepfR6Dtqhn"
      },
      "outputs": [],
      "source": [
        "arr1 = np.arange(15).reshape(5,3)\n",
        "arr2 = np.arange(5).reshape(5,1)\n",
        "arr2 + arr1\n"
      ]
    },
    {
      "cell_type": "markdown",
      "source": [],
      "metadata": {
        "id": "B7Gkmyqy15l4"
      }
    },
    {
      "cell_type": "code",
      "execution_count": null,
      "metadata": {
        "id": "qU9IPjEEtqhn"
      },
      "outputs": [],
      "source": [
        "arr1"
      ]
    },
    {
      "cell_type": "code",
      "execution_count": null,
      "metadata": {
        "id": "hyFs6hrFtqho"
      },
      "outputs": [],
      "source": [
        "arr2"
      ]
    },
    {
      "cell_type": "code",
      "execution_count": 23,
      "metadata": {
        "colab": {
          "base_uri": "https://localhost:8080/"
        },
        "id": "Z-5xv_BYtqho",
        "outputId": "2ef433c0-a4f3-404d-a45f-c6f70d037b84"
      },
      "outputs": [
        {
          "output_type": "execute_result",
          "data": {
            "text/plain": [
              "array([[ 0.1337151 ,  0.58737883, -0.64331892],\n",
              "       [ 0.91089186, -1.12937473,  0.56626124],\n",
              "       [-0.24055192,  1.3075502 ,  0.98015897],\n",
              "       [-0.331491  ,  0.78609557,  1.24241028],\n",
              "       [ 0.95115772, -1.61589166, -0.76368331]])"
            ]
          },
          "metadata": {},
          "execution_count": 23
        }
      ],
      "source": [
        "arr1 = np.random.randn(5,3)\n",
        "arr1"
      ]
    },
    {
      "cell_type": "markdown",
      "source": [
        "modf remove all decimal numbers inside an array"
      ],
      "metadata": {
        "id": "SEBPzSHF2Ah3"
      }
    },
    {
      "cell_type": "code",
      "execution_count": 22,
      "metadata": {
        "colab": {
          "base_uri": "https://localhost:8080/",
          "height": 175
        },
        "id": "Q_jbWz2Jtqho",
        "outputId": "0c72cba7-9da8-40d3-e359-465a3993ae8f"
      },
      "outputs": [
        {
          "output_type": "error",
          "ename": "NameError",
          "evalue": "ignored",
          "traceback": [
            "\u001b[0;31m---------------------------------------------------------------------------\u001b[0m",
            "\u001b[0;31mNameError\u001b[0m                                 Traceback (most recent call last)",
            "\u001b[0;32m<ipython-input-22-8de1fdf9b99e>\u001b[0m in \u001b[0;36m<cell line: 1>\u001b[0;34m()\u001b[0m\n\u001b[0;32m----> 1\u001b[0;31m \u001b[0mnp\u001b[0m\u001b[0;34m.\u001b[0m\u001b[0mmodf\u001b[0m\u001b[0;34m(\u001b[0m\u001b[0marr1\u001b[0m\u001b[0;34m)\u001b[0m\u001b[0;34m\u001b[0m\u001b[0;34m\u001b[0m\u001b[0m\n\u001b[0m",
            "\u001b[0;31mNameError\u001b[0m: name 'arr1' is not defined"
          ]
        }
      ],
      "source": [
        "np.modf(arr1)"
      ]
    },
    {
      "cell_type": "markdown",
      "metadata": {
        "id": "F0cicQSNtqhp"
      },
      "source": [
        "#### Linear algebra using numpy"
      ]
    },
    {
      "cell_type": "markdown",
      "source": [
        "A multiple B (dot is used to multiple matrix)"
      ],
      "metadata": {
        "id": "C0VYlVRo2kvB"
      }
    },
    {
      "cell_type": "code",
      "execution_count": 24,
      "metadata": {
        "colab": {
          "base_uri": "https://localhost:8080/"
        },
        "id": "k6g23ASjtqhp",
        "outputId": "d3f72958-907e-45b0-8d17-9518e2a44986"
      },
      "outputs": [
        {
          "output_type": "execute_result",
          "data": {
            "text/plain": [
              "array([[ 24,  24,  24],\n",
              "       [ 72,  69,  66],\n",
              "       [120, 114, 108]])"
            ]
          },
          "metadata": {},
          "execution_count": 24
        }
      ],
      "source": [
        "A = np.array([[1,2,3],[4,5,6],[7,8,9]])\n",
        "B = np.array([[9,8,7],[6,5,4],[1,2,3]])\n",
        "A.dot(B)"
      ]
    },
    {
      "cell_type": "markdown",
      "source": [
        ".T = Transpost"
      ],
      "metadata": {
        "id": "IaWGYTT52sDF"
      }
    },
    {
      "cell_type": "code",
      "execution_count": null,
      "metadata": {
        "id": "5XoDuDSPtqhp"
      },
      "outputs": [],
      "source": [
        "A = np.arange(15).reshape(3,5)\n",
        "A.T"
      ]
    },
    {
      "cell_type": "markdown",
      "metadata": {
        "id": "-hRTIViktqhp"
      },
      "source": [
        "# Pandas\n",
        "## Data frames"
      ]
    },
    {
      "cell_type": "markdown",
      "source": [
        "DataFrame is used to create a dataset, use an array of dictionaries"
      ],
      "metadata": {
        "id": "KxEpSp4-3FJ-"
      }
    },
    {
      "cell_type": "code",
      "execution_count": 28,
      "metadata": {
        "colab": {
          "base_uri": "https://localhost:8080/",
          "height": 143
        },
        "id": "l-8NXR5ltqhq",
        "outputId": "01e58fc8-6aa4-4836-e2b8-6369709559a4"
      },
      "outputs": [
        {
          "output_type": "execute_result",
          "data": {
            "text/plain": [
              "        city  data\n",
              "0      Delhi  1000\n",
              "1  Banglaore  2000\n",
              "2     Mumbai  1000"
            ],
            "text/html": [
              "\n",
              "  <div id=\"df-3e5b5c0f-a797-4bd9-a1ed-cc8211bd24aa\" class=\"colab-df-container\">\n",
              "    <div>\n",
              "<style scoped>\n",
              "    .dataframe tbody tr th:only-of-type {\n",
              "        vertical-align: middle;\n",
              "    }\n",
              "\n",
              "    .dataframe tbody tr th {\n",
              "        vertical-align: top;\n",
              "    }\n",
              "\n",
              "    .dataframe thead th {\n",
              "        text-align: right;\n",
              "    }\n",
              "</style>\n",
              "<table border=\"1\" class=\"dataframe\">\n",
              "  <thead>\n",
              "    <tr style=\"text-align: right;\">\n",
              "      <th></th>\n",
              "      <th>city</th>\n",
              "      <th>data</th>\n",
              "    </tr>\n",
              "  </thead>\n",
              "  <tbody>\n",
              "    <tr>\n",
              "      <th>0</th>\n",
              "      <td>Delhi</td>\n",
              "      <td>1000</td>\n",
              "    </tr>\n",
              "    <tr>\n",
              "      <th>1</th>\n",
              "      <td>Banglaore</td>\n",
              "      <td>2000</td>\n",
              "    </tr>\n",
              "    <tr>\n",
              "      <th>2</th>\n",
              "      <td>Mumbai</td>\n",
              "      <td>1000</td>\n",
              "    </tr>\n",
              "  </tbody>\n",
              "</table>\n",
              "</div>\n",
              "    <div class=\"colab-df-buttons\">\n",
              "\n",
              "  <div class=\"colab-df-container\">\n",
              "    <button class=\"colab-df-convert\" onclick=\"convertToInteractive('df-3e5b5c0f-a797-4bd9-a1ed-cc8211bd24aa')\"\n",
              "            title=\"Convert this dataframe to an interactive table.\"\n",
              "            style=\"display:none;\">\n",
              "\n",
              "  <svg xmlns=\"http://www.w3.org/2000/svg\" height=\"24px\" viewBox=\"0 -960 960 960\">\n",
              "    <path d=\"M120-120v-720h720v720H120Zm60-500h600v-160H180v160Zm220 220h160v-160H400v160Zm0 220h160v-160H400v160ZM180-400h160v-160H180v160Zm440 0h160v-160H620v160ZM180-180h160v-160H180v160Zm440 0h160v-160H620v160Z\"/>\n",
              "  </svg>\n",
              "    </button>\n",
              "\n",
              "  <style>\n",
              "    .colab-df-container {\n",
              "      display:flex;\n",
              "      gap: 12px;\n",
              "    }\n",
              "\n",
              "    .colab-df-convert {\n",
              "      background-color: #E8F0FE;\n",
              "      border: none;\n",
              "      border-radius: 50%;\n",
              "      cursor: pointer;\n",
              "      display: none;\n",
              "      fill: #1967D2;\n",
              "      height: 32px;\n",
              "      padding: 0 0 0 0;\n",
              "      width: 32px;\n",
              "    }\n",
              "\n",
              "    .colab-df-convert:hover {\n",
              "      background-color: #E2EBFA;\n",
              "      box-shadow: 0px 1px 2px rgba(60, 64, 67, 0.3), 0px 1px 3px 1px rgba(60, 64, 67, 0.15);\n",
              "      fill: #174EA6;\n",
              "    }\n",
              "\n",
              "    .colab-df-buttons div {\n",
              "      margin-bottom: 4px;\n",
              "    }\n",
              "\n",
              "    [theme=dark] .colab-df-convert {\n",
              "      background-color: #3B4455;\n",
              "      fill: #D2E3FC;\n",
              "    }\n",
              "\n",
              "    [theme=dark] .colab-df-convert:hover {\n",
              "      background-color: #434B5C;\n",
              "      box-shadow: 0px 1px 3px 1px rgba(0, 0, 0, 0.15);\n",
              "      filter: drop-shadow(0px 1px 2px rgba(0, 0, 0, 0.3));\n",
              "      fill: #FFFFFF;\n",
              "    }\n",
              "  </style>\n",
              "\n",
              "    <script>\n",
              "      const buttonEl =\n",
              "        document.querySelector('#df-3e5b5c0f-a797-4bd9-a1ed-cc8211bd24aa button.colab-df-convert');\n",
              "      buttonEl.style.display =\n",
              "        google.colab.kernel.accessAllowed ? 'block' : 'none';\n",
              "\n",
              "      async function convertToInteractive(key) {\n",
              "        const element = document.querySelector('#df-3e5b5c0f-a797-4bd9-a1ed-cc8211bd24aa');\n",
              "        const dataTable =\n",
              "          await google.colab.kernel.invokeFunction('convertToInteractive',\n",
              "                                                    [key], {});\n",
              "        if (!dataTable) return;\n",
              "\n",
              "        const docLinkHtml = 'Like what you see? Visit the ' +\n",
              "          '<a target=\"_blank\" href=https://colab.research.google.com/notebooks/data_table.ipynb>data table notebook</a>'\n",
              "          + ' to learn more about interactive tables.';\n",
              "        element.innerHTML = '';\n",
              "        dataTable['output_type'] = 'display_data';\n",
              "        await google.colab.output.renderOutput(dataTable, element);\n",
              "        const docLink = document.createElement('div');\n",
              "        docLink.innerHTML = docLinkHtml;\n",
              "        element.appendChild(docLink);\n",
              "      }\n",
              "    </script>\n",
              "  </div>\n",
              "\n",
              "\n",
              "<div id=\"df-e07665fb-eca4-4690-8062-a60767c35b03\">\n",
              "  <button class=\"colab-df-quickchart\" onclick=\"quickchart('df-e07665fb-eca4-4690-8062-a60767c35b03')\"\n",
              "            title=\"Suggest charts.\"\n",
              "            style=\"display:none;\">\n",
              "\n",
              "<svg xmlns=\"http://www.w3.org/2000/svg\" height=\"24px\"viewBox=\"0 0 24 24\"\n",
              "     width=\"24px\">\n",
              "    <g>\n",
              "        <path d=\"M19 3H5c-1.1 0-2 .9-2 2v14c0 1.1.9 2 2 2h14c1.1 0 2-.9 2-2V5c0-1.1-.9-2-2-2zM9 17H7v-7h2v7zm4 0h-2V7h2v10zm4 0h-2v-4h2v4z\"/>\n",
              "    </g>\n",
              "</svg>\n",
              "  </button>\n",
              "\n",
              "<style>\n",
              "  .colab-df-quickchart {\n",
              "    background-color: #E8F0FE;\n",
              "    border: none;\n",
              "    border-radius: 50%;\n",
              "    cursor: pointer;\n",
              "    display: none;\n",
              "    fill: #1967D2;\n",
              "    height: 32px;\n",
              "    padding: 0 0 0 0;\n",
              "    width: 32px;\n",
              "  }\n",
              "\n",
              "  .colab-df-quickchart:hover {\n",
              "    background-color: #E2EBFA;\n",
              "    box-shadow: 0px 1px 2px rgba(60, 64, 67, 0.3), 0px 1px 3px 1px rgba(60, 64, 67, 0.15);\n",
              "    fill: #174EA6;\n",
              "  }\n",
              "\n",
              "  [theme=dark] .colab-df-quickchart {\n",
              "    background-color: #3B4455;\n",
              "    fill: #D2E3FC;\n",
              "  }\n",
              "\n",
              "  [theme=dark] .colab-df-quickchart:hover {\n",
              "    background-color: #434B5C;\n",
              "    box-shadow: 0px 1px 3px 1px rgba(0, 0, 0, 0.15);\n",
              "    filter: drop-shadow(0px 1px 2px rgba(0, 0, 0, 0.3));\n",
              "    fill: #FFFFFF;\n",
              "  }\n",
              "</style>\n",
              "\n",
              "  <script>\n",
              "    async function quickchart(key) {\n",
              "      const charts = await google.colab.kernel.invokeFunction(\n",
              "          'suggestCharts', [key], {});\n",
              "    }\n",
              "    (() => {\n",
              "      let quickchartButtonEl =\n",
              "        document.querySelector('#df-e07665fb-eca4-4690-8062-a60767c35b03 button');\n",
              "      quickchartButtonEl.style.display =\n",
              "        google.colab.kernel.accessAllowed ? 'block' : 'none';\n",
              "    })();\n",
              "  </script>\n",
              "</div>\n",
              "    </div>\n",
              "  </div>\n"
            ]
          },
          "metadata": {},
          "execution_count": 28
        }
      ],
      "source": [
        "import pandas as pd\n",
        "d =  [{'city':'Delhi',\"data\":1000},\n",
        "      {'city':'Banglaore',\"data\":2000},\n",
        "      {'city':'Mumbai',\"data\":1000}]\n",
        "pd.DataFrame(d)"
      ]
    },
    {
      "cell_type": "code",
      "execution_count": 26,
      "metadata": {
        "id": "9CT4zMittqhq"
      },
      "outputs": [],
      "source": [
        "df = pd.DataFrame(d)"
      ]
    },
    {
      "cell_type": "markdown",
      "metadata": {
        "id": "7zqi9Ybstqhq"
      },
      "source": [
        "### Reading in data"
      ]
    },
    {
      "cell_type": "code",
      "execution_count": 30,
      "metadata": {
        "id": "6xYivveltqhq"
      },
      "outputs": [],
      "source": [
        "city_data = pd.read_csv(filepath_or_buffer='simplemaps-worldcities-basic.csv')"
      ]
    },
    {
      "cell_type": "markdown",
      "source": [
        "Get first 10 rows of dataset"
      ],
      "metadata": {
        "id": "5Sdk8NJB3jqL"
      }
    },
    {
      "cell_type": "code",
      "execution_count": null,
      "metadata": {
        "id": "Rwb4RZKotqhq"
      },
      "outputs": [],
      "source": [
        "city_data.head(n=10)"
      ]
    },
    {
      "cell_type": "markdown",
      "source": [
        "Get the last 5 rows from dataset"
      ],
      "metadata": {
        "id": "Sfv7Sa_94Ble"
      }
    },
    {
      "cell_type": "code",
      "execution_count": 31,
      "metadata": {
        "colab": {
          "base_uri": "https://localhost:8080/",
          "height": 206
        },
        "id": "S6OsVtyftqhr",
        "outputId": "f6cb34b8-75f1-426d-f0b3-545cc51c0340"
      },
      "outputs": [
        {
          "output_type": "execute_result",
          "data": {
            "text/plain": [
              "             city   city_ascii        lat        lng        pop   country  \\\n",
              "7317       Mutare       Mutare -18.970019  32.650038   216785.0  Zimbabwe   \n",
              "7318       Kadoma       Kadoma -18.330006  29.909947    56400.0  Zimbabwe   \n",
              "7319  Chitungwiza  Chitungwiza -18.000001  31.100003   331071.0  Zimbabwe   \n",
              "7320       Harare       Harare -17.817790  31.044709  1557406.5  Zimbabwe   \n",
              "7321     Bulawayo     Bulawayo -20.169998  28.580002   697096.0  Zimbabwe   \n",
              "\n",
              "     iso2 iso3          province  \n",
              "7317   ZW  ZWE        Manicaland  \n",
              "7318   ZW  ZWE  Mashonaland West  \n",
              "7319   ZW  ZWE            Harare  \n",
              "7320   ZW  ZWE            Harare  \n",
              "7321   ZW  ZWE          Bulawayo  "
            ],
            "text/html": [
              "\n",
              "  <div id=\"df-dd97abe7-2641-4022-b40b-e81866eebae9\" class=\"colab-df-container\">\n",
              "    <div>\n",
              "<style scoped>\n",
              "    .dataframe tbody tr th:only-of-type {\n",
              "        vertical-align: middle;\n",
              "    }\n",
              "\n",
              "    .dataframe tbody tr th {\n",
              "        vertical-align: top;\n",
              "    }\n",
              "\n",
              "    .dataframe thead th {\n",
              "        text-align: right;\n",
              "    }\n",
              "</style>\n",
              "<table border=\"1\" class=\"dataframe\">\n",
              "  <thead>\n",
              "    <tr style=\"text-align: right;\">\n",
              "      <th></th>\n",
              "      <th>city</th>\n",
              "      <th>city_ascii</th>\n",
              "      <th>lat</th>\n",
              "      <th>lng</th>\n",
              "      <th>pop</th>\n",
              "      <th>country</th>\n",
              "      <th>iso2</th>\n",
              "      <th>iso3</th>\n",
              "      <th>province</th>\n",
              "    </tr>\n",
              "  </thead>\n",
              "  <tbody>\n",
              "    <tr>\n",
              "      <th>7317</th>\n",
              "      <td>Mutare</td>\n",
              "      <td>Mutare</td>\n",
              "      <td>-18.970019</td>\n",
              "      <td>32.650038</td>\n",
              "      <td>216785.0</td>\n",
              "      <td>Zimbabwe</td>\n",
              "      <td>ZW</td>\n",
              "      <td>ZWE</td>\n",
              "      <td>Manicaland</td>\n",
              "    </tr>\n",
              "    <tr>\n",
              "      <th>7318</th>\n",
              "      <td>Kadoma</td>\n",
              "      <td>Kadoma</td>\n",
              "      <td>-18.330006</td>\n",
              "      <td>29.909947</td>\n",
              "      <td>56400.0</td>\n",
              "      <td>Zimbabwe</td>\n",
              "      <td>ZW</td>\n",
              "      <td>ZWE</td>\n",
              "      <td>Mashonaland West</td>\n",
              "    </tr>\n",
              "    <tr>\n",
              "      <th>7319</th>\n",
              "      <td>Chitungwiza</td>\n",
              "      <td>Chitungwiza</td>\n",
              "      <td>-18.000001</td>\n",
              "      <td>31.100003</td>\n",
              "      <td>331071.0</td>\n",
              "      <td>Zimbabwe</td>\n",
              "      <td>ZW</td>\n",
              "      <td>ZWE</td>\n",
              "      <td>Harare</td>\n",
              "    </tr>\n",
              "    <tr>\n",
              "      <th>7320</th>\n",
              "      <td>Harare</td>\n",
              "      <td>Harare</td>\n",
              "      <td>-17.817790</td>\n",
              "      <td>31.044709</td>\n",
              "      <td>1557406.5</td>\n",
              "      <td>Zimbabwe</td>\n",
              "      <td>ZW</td>\n",
              "      <td>ZWE</td>\n",
              "      <td>Harare</td>\n",
              "    </tr>\n",
              "    <tr>\n",
              "      <th>7321</th>\n",
              "      <td>Bulawayo</td>\n",
              "      <td>Bulawayo</td>\n",
              "      <td>-20.169998</td>\n",
              "      <td>28.580002</td>\n",
              "      <td>697096.0</td>\n",
              "      <td>Zimbabwe</td>\n",
              "      <td>ZW</td>\n",
              "      <td>ZWE</td>\n",
              "      <td>Bulawayo</td>\n",
              "    </tr>\n",
              "  </tbody>\n",
              "</table>\n",
              "</div>\n",
              "    <div class=\"colab-df-buttons\">\n",
              "\n",
              "  <div class=\"colab-df-container\">\n",
              "    <button class=\"colab-df-convert\" onclick=\"convertToInteractive('df-dd97abe7-2641-4022-b40b-e81866eebae9')\"\n",
              "            title=\"Convert this dataframe to an interactive table.\"\n",
              "            style=\"display:none;\">\n",
              "\n",
              "  <svg xmlns=\"http://www.w3.org/2000/svg\" height=\"24px\" viewBox=\"0 -960 960 960\">\n",
              "    <path d=\"M120-120v-720h720v720H120Zm60-500h600v-160H180v160Zm220 220h160v-160H400v160Zm0 220h160v-160H400v160ZM180-400h160v-160H180v160Zm440 0h160v-160H620v160ZM180-180h160v-160H180v160Zm440 0h160v-160H620v160Z\"/>\n",
              "  </svg>\n",
              "    </button>\n",
              "\n",
              "  <style>\n",
              "    .colab-df-container {\n",
              "      display:flex;\n",
              "      gap: 12px;\n",
              "    }\n",
              "\n",
              "    .colab-df-convert {\n",
              "      background-color: #E8F0FE;\n",
              "      border: none;\n",
              "      border-radius: 50%;\n",
              "      cursor: pointer;\n",
              "      display: none;\n",
              "      fill: #1967D2;\n",
              "      height: 32px;\n",
              "      padding: 0 0 0 0;\n",
              "      width: 32px;\n",
              "    }\n",
              "\n",
              "    .colab-df-convert:hover {\n",
              "      background-color: #E2EBFA;\n",
              "      box-shadow: 0px 1px 2px rgba(60, 64, 67, 0.3), 0px 1px 3px 1px rgba(60, 64, 67, 0.15);\n",
              "      fill: #174EA6;\n",
              "    }\n",
              "\n",
              "    .colab-df-buttons div {\n",
              "      margin-bottom: 4px;\n",
              "    }\n",
              "\n",
              "    [theme=dark] .colab-df-convert {\n",
              "      background-color: #3B4455;\n",
              "      fill: #D2E3FC;\n",
              "    }\n",
              "\n",
              "    [theme=dark] .colab-df-convert:hover {\n",
              "      background-color: #434B5C;\n",
              "      box-shadow: 0px 1px 3px 1px rgba(0, 0, 0, 0.15);\n",
              "      filter: drop-shadow(0px 1px 2px rgba(0, 0, 0, 0.3));\n",
              "      fill: #FFFFFF;\n",
              "    }\n",
              "  </style>\n",
              "\n",
              "    <script>\n",
              "      const buttonEl =\n",
              "        document.querySelector('#df-dd97abe7-2641-4022-b40b-e81866eebae9 button.colab-df-convert');\n",
              "      buttonEl.style.display =\n",
              "        google.colab.kernel.accessAllowed ? 'block' : 'none';\n",
              "\n",
              "      async function convertToInteractive(key) {\n",
              "        const element = document.querySelector('#df-dd97abe7-2641-4022-b40b-e81866eebae9');\n",
              "        const dataTable =\n",
              "          await google.colab.kernel.invokeFunction('convertToInteractive',\n",
              "                                                    [key], {});\n",
              "        if (!dataTable) return;\n",
              "\n",
              "        const docLinkHtml = 'Like what you see? Visit the ' +\n",
              "          '<a target=\"_blank\" href=https://colab.research.google.com/notebooks/data_table.ipynb>data table notebook</a>'\n",
              "          + ' to learn more about interactive tables.';\n",
              "        element.innerHTML = '';\n",
              "        dataTable['output_type'] = 'display_data';\n",
              "        await google.colab.output.renderOutput(dataTable, element);\n",
              "        const docLink = document.createElement('div');\n",
              "        docLink.innerHTML = docLinkHtml;\n",
              "        element.appendChild(docLink);\n",
              "      }\n",
              "    </script>\n",
              "  </div>\n",
              "\n",
              "\n",
              "<div id=\"df-92979b38-22db-4518-8cf9-9619b8184729\">\n",
              "  <button class=\"colab-df-quickchart\" onclick=\"quickchart('df-92979b38-22db-4518-8cf9-9619b8184729')\"\n",
              "            title=\"Suggest charts.\"\n",
              "            style=\"display:none;\">\n",
              "\n",
              "<svg xmlns=\"http://www.w3.org/2000/svg\" height=\"24px\"viewBox=\"0 0 24 24\"\n",
              "     width=\"24px\">\n",
              "    <g>\n",
              "        <path d=\"M19 3H5c-1.1 0-2 .9-2 2v14c0 1.1.9 2 2 2h14c1.1 0 2-.9 2-2V5c0-1.1-.9-2-2-2zM9 17H7v-7h2v7zm4 0h-2V7h2v10zm4 0h-2v-4h2v4z\"/>\n",
              "    </g>\n",
              "</svg>\n",
              "  </button>\n",
              "\n",
              "<style>\n",
              "  .colab-df-quickchart {\n",
              "    background-color: #E8F0FE;\n",
              "    border: none;\n",
              "    border-radius: 50%;\n",
              "    cursor: pointer;\n",
              "    display: none;\n",
              "    fill: #1967D2;\n",
              "    height: 32px;\n",
              "    padding: 0 0 0 0;\n",
              "    width: 32px;\n",
              "  }\n",
              "\n",
              "  .colab-df-quickchart:hover {\n",
              "    background-color: #E2EBFA;\n",
              "    box-shadow: 0px 1px 2px rgba(60, 64, 67, 0.3), 0px 1px 3px 1px rgba(60, 64, 67, 0.15);\n",
              "    fill: #174EA6;\n",
              "  }\n",
              "\n",
              "  [theme=dark] .colab-df-quickchart {\n",
              "    background-color: #3B4455;\n",
              "    fill: #D2E3FC;\n",
              "  }\n",
              "\n",
              "  [theme=dark] .colab-df-quickchart:hover {\n",
              "    background-color: #434B5C;\n",
              "    box-shadow: 0px 1px 3px 1px rgba(0, 0, 0, 0.15);\n",
              "    filter: drop-shadow(0px 1px 2px rgba(0, 0, 0, 0.3));\n",
              "    fill: #FFFFFF;\n",
              "  }\n",
              "</style>\n",
              "\n",
              "  <script>\n",
              "    async function quickchart(key) {\n",
              "      const charts = await google.colab.kernel.invokeFunction(\n",
              "          'suggestCharts', [key], {});\n",
              "    }\n",
              "    (() => {\n",
              "      let quickchartButtonEl =\n",
              "        document.querySelector('#df-92979b38-22db-4518-8cf9-9619b8184729 button');\n",
              "      quickchartButtonEl.style.display =\n",
              "        google.colab.kernel.accessAllowed ? 'block' : 'none';\n",
              "    })();\n",
              "  </script>\n",
              "</div>\n",
              "    </div>\n",
              "  </div>\n"
            ]
          },
          "metadata": {},
          "execution_count": 31
        }
      ],
      "source": [
        "city_data.tail()"
      ]
    },
    {
      "cell_type": "markdown",
      "source": [
        "Its used to get the column from dataset"
      ],
      "metadata": {
        "id": "nrToO8fp3yYK"
      }
    },
    {
      "cell_type": "code",
      "execution_count": 33,
      "metadata": {
        "id": "Yk0SpJvdtqhr"
      },
      "outputs": [],
      "source": [
        "series_es = city_data.lat"
      ]
    },
    {
      "cell_type": "code",
      "execution_count": 34,
      "metadata": {
        "colab": {
          "base_uri": "https://localhost:8080/"
        },
        "id": "ZfHg697xtqhr",
        "outputId": "591f639e-8a2b-4394-8f16-2c5f142cd313"
      },
      "outputs": [
        {
          "output_type": "execute_result",
          "data": {
            "text/plain": [
              "pandas.core.series.Series"
            ]
          },
          "metadata": {},
          "execution_count": 34
        }
      ],
      "source": [
        "type(series_es)"
      ]
    },
    {
      "cell_type": "code",
      "execution_count": 35,
      "metadata": {
        "colab": {
          "base_uri": "https://localhost:8080/"
        },
        "id": "V8Ye1eVqtqhr",
        "outputId": "4307ed3e-9d9b-4be0-9908-7928e76ce94a"
      },
      "outputs": [
        {
          "output_type": "execute_result",
          "data": {
            "text/plain": [
              "1    34.516701\n",
              "3    31.112001\n",
              "5    32.850000\n",
              "7    36.729999\n",
              "9    34.650000\n",
              "Name: lat, dtype: float64"
            ]
          },
          "metadata": {},
          "execution_count": 35
        }
      ],
      "source": [
        "series_es[1:10:2]"
      ]
    },
    {
      "cell_type": "code",
      "execution_count": null,
      "metadata": {
        "id": "kYVHg207tqhr"
      },
      "outputs": [],
      "source": [
        "series_es[:7]"
      ]
    },
    {
      "cell_type": "code",
      "execution_count": null,
      "metadata": {
        "id": "pRAKJZh2tqhs"
      },
      "outputs": [],
      "source": [
        "series_es[:-7315]"
      ]
    },
    {
      "cell_type": "markdown",
      "source": [
        "Slice inside the dataset"
      ],
      "metadata": {
        "id": "ctJhK0oW4b8r"
      }
    },
    {
      "cell_type": "code",
      "execution_count": null,
      "metadata": {
        "id": "VvI-mj36tqhs"
      },
      "outputs": [],
      "source": [
        "city_data[:7]"
      ]
    },
    {
      "cell_type": "markdown",
      "source": [
        "iloc is to use index in pandas to manipulate the dataset"
      ],
      "metadata": {
        "id": "PFNabIpL5bMB"
      }
    },
    {
      "cell_type": "code",
      "execution_count": null,
      "metadata": {
        "id": "eLnfhOiAtqhs"
      },
      "outputs": [],
      "source": [
        "city_data.iloc[:5,:4]"
      ]
    },
    {
      "cell_type": "markdown",
      "source": [],
      "metadata": {
        "id": "ugqo55MX5jQY"
      }
    },
    {
      "cell_type": "markdown",
      "source": [
        "[city_data['pop'] > 10000000] = create a mask population is greater than 10000000 |\n",
        "pd.Series(city_data.columns).str = transform an array in a serie and convert to string | .startswith('l') = get columns that starts with 'l' (column name)."
      ],
      "metadata": {
        "id": "SLvv71JF5oTs"
      }
    },
    {
      "cell_type": "code",
      "execution_count": null,
      "metadata": {
        "id": "EBi8SgPCtqhs"
      },
      "outputs": [],
      "source": [
        "city_data[city_data['pop'] > 10000000][city_data.columns[pd.Series(city_data.columns).str.startswith('l')]]"
      ]
    },
    {
      "cell_type": "code",
      "execution_count": null,
      "metadata": {
        "id": "qOBRUzectqhs"
      },
      "outputs": [],
      "source": [
        "city_greater_10mil = city_data[city_data['pop'] > 10000000]\n",
        "city_greater_10mil.rename(columns={'pop':'population'}, inplace=True) # rename the column name, inplace: do at the same variable that its running (by reference)\n",
        "city_greater_10mil.where(city_greater_10mil.population > 15000000) # Its igual the first line, but using where and doing by reference"
      ]
    },
    {
      "cell_type": "code",
      "execution_count": 37,
      "metadata": {
        "id": "q0xGz_X_tqhs"
      },
      "outputs": [],
      "source": [
        "df = pd.DataFrame(np.random.randn(8, 3),\n",
        "columns=['A', 'B', 'C'])"
      ]
    },
    {
      "cell_type": "markdown",
      "metadata": {
        "id": "b8gp4o5Ntqht"
      },
      "source": [
        "### Operations on dataframes"
      ]
    },
    {
      "cell_type": "markdown",
      "source": [
        ".values show all values from the dataset"
      ],
      "metadata": {
        "id": "lZ6OwuNg7VpI"
      }
    },
    {
      "cell_type": "code",
      "execution_count": null,
      "metadata": {
        "id": "7ir5Gi26tqht"
      },
      "outputs": [],
      "source": [
        "nparray = df.values\n",
        "type(nparray)"
      ]
    },
    {
      "cell_type": "code",
      "execution_count": 38,
      "metadata": {
        "id": "ZVlHn0CItqht"
      },
      "outputs": [],
      "source": [
        "from numpy import nan\n",
        "df.iloc[4,2] = nan"
      ]
    },
    {
      "cell_type": "code",
      "execution_count": 39,
      "metadata": {
        "colab": {
          "base_uri": "https://localhost:8080/",
          "height": 311
        },
        "id": "OlawAZwTtqht",
        "outputId": "27e74b8b-6980-4f28-a16e-cb996dbc1e86"
      },
      "outputs": [
        {
          "output_type": "execute_result",
          "data": {
            "text/plain": [
              "          A         B         C\n",
              "0  1.285611 -0.034282  0.829172\n",
              "1  0.037797 -1.090855 -1.200803\n",
              "2 -0.150240 -0.538509  0.957530\n",
              "3 -0.905366 -0.571897 -0.604816\n",
              "4 -2.161881  0.092003       NaN\n",
              "5  0.737817 -0.715550  0.170174\n",
              "6  0.550151 -0.476324  1.295440\n",
              "7  0.954796  1.348661  1.686296"
            ],
            "text/html": [
              "\n",
              "  <div id=\"df-a2937135-66d8-47a0-81ae-47be99bcbb77\" class=\"colab-df-container\">\n",
              "    <div>\n",
              "<style scoped>\n",
              "    .dataframe tbody tr th:only-of-type {\n",
              "        vertical-align: middle;\n",
              "    }\n",
              "\n",
              "    .dataframe tbody tr th {\n",
              "        vertical-align: top;\n",
              "    }\n",
              "\n",
              "    .dataframe thead th {\n",
              "        text-align: right;\n",
              "    }\n",
              "</style>\n",
              "<table border=\"1\" class=\"dataframe\">\n",
              "  <thead>\n",
              "    <tr style=\"text-align: right;\">\n",
              "      <th></th>\n",
              "      <th>A</th>\n",
              "      <th>B</th>\n",
              "      <th>C</th>\n",
              "    </tr>\n",
              "  </thead>\n",
              "  <tbody>\n",
              "    <tr>\n",
              "      <th>0</th>\n",
              "      <td>1.285611</td>\n",
              "      <td>-0.034282</td>\n",
              "      <td>0.829172</td>\n",
              "    </tr>\n",
              "    <tr>\n",
              "      <th>1</th>\n",
              "      <td>0.037797</td>\n",
              "      <td>-1.090855</td>\n",
              "      <td>-1.200803</td>\n",
              "    </tr>\n",
              "    <tr>\n",
              "      <th>2</th>\n",
              "      <td>-0.150240</td>\n",
              "      <td>-0.538509</td>\n",
              "      <td>0.957530</td>\n",
              "    </tr>\n",
              "    <tr>\n",
              "      <th>3</th>\n",
              "      <td>-0.905366</td>\n",
              "      <td>-0.571897</td>\n",
              "      <td>-0.604816</td>\n",
              "    </tr>\n",
              "    <tr>\n",
              "      <th>4</th>\n",
              "      <td>-2.161881</td>\n",
              "      <td>0.092003</td>\n",
              "      <td>NaN</td>\n",
              "    </tr>\n",
              "    <tr>\n",
              "      <th>5</th>\n",
              "      <td>0.737817</td>\n",
              "      <td>-0.715550</td>\n",
              "      <td>0.170174</td>\n",
              "    </tr>\n",
              "    <tr>\n",
              "      <th>6</th>\n",
              "      <td>0.550151</td>\n",
              "      <td>-0.476324</td>\n",
              "      <td>1.295440</td>\n",
              "    </tr>\n",
              "    <tr>\n",
              "      <th>7</th>\n",
              "      <td>0.954796</td>\n",
              "      <td>1.348661</td>\n",
              "      <td>1.686296</td>\n",
              "    </tr>\n",
              "  </tbody>\n",
              "</table>\n",
              "</div>\n",
              "    <div class=\"colab-df-buttons\">\n",
              "\n",
              "  <div class=\"colab-df-container\">\n",
              "    <button class=\"colab-df-convert\" onclick=\"convertToInteractive('df-a2937135-66d8-47a0-81ae-47be99bcbb77')\"\n",
              "            title=\"Convert this dataframe to an interactive table.\"\n",
              "            style=\"display:none;\">\n",
              "\n",
              "  <svg xmlns=\"http://www.w3.org/2000/svg\" height=\"24px\" viewBox=\"0 -960 960 960\">\n",
              "    <path d=\"M120-120v-720h720v720H120Zm60-500h600v-160H180v160Zm220 220h160v-160H400v160Zm0 220h160v-160H400v160ZM180-400h160v-160H180v160Zm440 0h160v-160H620v160ZM180-180h160v-160H180v160Zm440 0h160v-160H620v160Z\"/>\n",
              "  </svg>\n",
              "    </button>\n",
              "\n",
              "  <style>\n",
              "    .colab-df-container {\n",
              "      display:flex;\n",
              "      gap: 12px;\n",
              "    }\n",
              "\n",
              "    .colab-df-convert {\n",
              "      background-color: #E8F0FE;\n",
              "      border: none;\n",
              "      border-radius: 50%;\n",
              "      cursor: pointer;\n",
              "      display: none;\n",
              "      fill: #1967D2;\n",
              "      height: 32px;\n",
              "      padding: 0 0 0 0;\n",
              "      width: 32px;\n",
              "    }\n",
              "\n",
              "    .colab-df-convert:hover {\n",
              "      background-color: #E2EBFA;\n",
              "      box-shadow: 0px 1px 2px rgba(60, 64, 67, 0.3), 0px 1px 3px 1px rgba(60, 64, 67, 0.15);\n",
              "      fill: #174EA6;\n",
              "    }\n",
              "\n",
              "    .colab-df-buttons div {\n",
              "      margin-bottom: 4px;\n",
              "    }\n",
              "\n",
              "    [theme=dark] .colab-df-convert {\n",
              "      background-color: #3B4455;\n",
              "      fill: #D2E3FC;\n",
              "    }\n",
              "\n",
              "    [theme=dark] .colab-df-convert:hover {\n",
              "      background-color: #434B5C;\n",
              "      box-shadow: 0px 1px 3px 1px rgba(0, 0, 0, 0.15);\n",
              "      filter: drop-shadow(0px 1px 2px rgba(0, 0, 0, 0.3));\n",
              "      fill: #FFFFFF;\n",
              "    }\n",
              "  </style>\n",
              "\n",
              "    <script>\n",
              "      const buttonEl =\n",
              "        document.querySelector('#df-a2937135-66d8-47a0-81ae-47be99bcbb77 button.colab-df-convert');\n",
              "      buttonEl.style.display =\n",
              "        google.colab.kernel.accessAllowed ? 'block' : 'none';\n",
              "\n",
              "      async function convertToInteractive(key) {\n",
              "        const element = document.querySelector('#df-a2937135-66d8-47a0-81ae-47be99bcbb77');\n",
              "        const dataTable =\n",
              "          await google.colab.kernel.invokeFunction('convertToInteractive',\n",
              "                                                    [key], {});\n",
              "        if (!dataTable) return;\n",
              "\n",
              "        const docLinkHtml = 'Like what you see? Visit the ' +\n",
              "          '<a target=\"_blank\" href=https://colab.research.google.com/notebooks/data_table.ipynb>data table notebook</a>'\n",
              "          + ' to learn more about interactive tables.';\n",
              "        element.innerHTML = '';\n",
              "        dataTable['output_type'] = 'display_data';\n",
              "        await google.colab.output.renderOutput(dataTable, element);\n",
              "        const docLink = document.createElement('div');\n",
              "        docLink.innerHTML = docLinkHtml;\n",
              "        element.appendChild(docLink);\n",
              "      }\n",
              "    </script>\n",
              "  </div>\n",
              "\n",
              "\n",
              "<div id=\"df-cc0e7f86-f6e6-487d-a7ee-8bb1130bf52a\">\n",
              "  <button class=\"colab-df-quickchart\" onclick=\"quickchart('df-cc0e7f86-f6e6-487d-a7ee-8bb1130bf52a')\"\n",
              "            title=\"Suggest charts.\"\n",
              "            style=\"display:none;\">\n",
              "\n",
              "<svg xmlns=\"http://www.w3.org/2000/svg\" height=\"24px\"viewBox=\"0 0 24 24\"\n",
              "     width=\"24px\">\n",
              "    <g>\n",
              "        <path d=\"M19 3H5c-1.1 0-2 .9-2 2v14c0 1.1.9 2 2 2h14c1.1 0 2-.9 2-2V5c0-1.1-.9-2-2-2zM9 17H7v-7h2v7zm4 0h-2V7h2v10zm4 0h-2v-4h2v4z\"/>\n",
              "    </g>\n",
              "</svg>\n",
              "  </button>\n",
              "\n",
              "<style>\n",
              "  .colab-df-quickchart {\n",
              "    background-color: #E8F0FE;\n",
              "    border: none;\n",
              "    border-radius: 50%;\n",
              "    cursor: pointer;\n",
              "    display: none;\n",
              "    fill: #1967D2;\n",
              "    height: 32px;\n",
              "    padding: 0 0 0 0;\n",
              "    width: 32px;\n",
              "  }\n",
              "\n",
              "  .colab-df-quickchart:hover {\n",
              "    background-color: #E2EBFA;\n",
              "    box-shadow: 0px 1px 2px rgba(60, 64, 67, 0.3), 0px 1px 3px 1px rgba(60, 64, 67, 0.15);\n",
              "    fill: #174EA6;\n",
              "  }\n",
              "\n",
              "  [theme=dark] .colab-df-quickchart {\n",
              "    background-color: #3B4455;\n",
              "    fill: #D2E3FC;\n",
              "  }\n",
              "\n",
              "  [theme=dark] .colab-df-quickchart:hover {\n",
              "    background-color: #434B5C;\n",
              "    box-shadow: 0px 1px 3px 1px rgba(0, 0, 0, 0.15);\n",
              "    filter: drop-shadow(0px 1px 2px rgba(0, 0, 0, 0.3));\n",
              "    fill: #FFFFFF;\n",
              "  }\n",
              "</style>\n",
              "\n",
              "  <script>\n",
              "    async function quickchart(key) {\n",
              "      const charts = await google.colab.kernel.invokeFunction(\n",
              "          'suggestCharts', [key], {});\n",
              "    }\n",
              "    (() => {\n",
              "      let quickchartButtonEl =\n",
              "        document.querySelector('#df-cc0e7f86-f6e6-487d-a7ee-8bb1130bf52a button');\n",
              "      quickchartButtonEl.style.display =\n",
              "        google.colab.kernel.accessAllowed ? 'block' : 'none';\n",
              "    })();\n",
              "  </script>\n",
              "</div>\n",
              "    </div>\n",
              "  </div>\n"
            ]
          },
          "metadata": {},
          "execution_count": 39
        }
      ],
      "source": [
        "df"
      ]
    },
    {
      "cell_type": "markdown",
      "source": [
        "fill every place that is NaN in dataset for some value, in this case 0"
      ],
      "metadata": {
        "id": "BarGQmhr7myZ"
      }
    },
    {
      "cell_type": "code",
      "execution_count": null,
      "metadata": {
        "id": "1YwwErNFtqht"
      },
      "outputs": [],
      "source": [
        "df.fillna(0)"
      ]
    },
    {
      "cell_type": "code",
      "execution_count": null,
      "metadata": {
        "id": "FhIi5DUBtqht"
      },
      "outputs": [],
      "source": [
        "columns_numeric = ['lat','lng','pop']"
      ]
    },
    {
      "cell_type": "code",
      "execution_count": 40,
      "metadata": {
        "colab": {
          "base_uri": "https://localhost:8080/",
          "height": 175
        },
        "id": "z81VYiLVtqht",
        "outputId": "0545447d-e12e-46d4-fcdc-0cb182268a5f"
      },
      "outputs": [
        {
          "output_type": "error",
          "ename": "NameError",
          "evalue": "ignored",
          "traceback": [
            "\u001b[0;31m---------------------------------------------------------------------------\u001b[0m",
            "\u001b[0;31mNameError\u001b[0m                                 Traceback (most recent call last)",
            "\u001b[0;32m<ipython-input-40-0105b02c0ebf>\u001b[0m in \u001b[0;36m<cell line: 1>\u001b[0;34m()\u001b[0m\n\u001b[0;32m----> 1\u001b[0;31m \u001b[0mcity_data\u001b[0m\u001b[0;34m[\u001b[0m\u001b[0mcolumns_numeric\u001b[0m\u001b[0;34m]\u001b[0m\u001b[0;34m.\u001b[0m\u001b[0mmean\u001b[0m\u001b[0;34m(\u001b[0m\u001b[0;34m)\u001b[0m\u001b[0;34m\u001b[0m\u001b[0;34m\u001b[0m\u001b[0m\n\u001b[0m",
            "\u001b[0;31mNameError\u001b[0m: name 'columns_numeric' is not defined"
          ]
        }
      ],
      "source": [
        "city_data[columns_numeric].mean()"
      ]
    },
    {
      "cell_type": "code",
      "execution_count": null,
      "metadata": {
        "id": "UP2oubhBtqhu"
      },
      "outputs": [],
      "source": [
        "city_data[columns_numeric].sum()"
      ]
    },
    {
      "cell_type": "code",
      "execution_count": null,
      "metadata": {
        "id": "QIf83BiRtqhu"
      },
      "outputs": [],
      "source": [
        "city_data[columns_numeric].count()"
      ]
    },
    {
      "cell_type": "code",
      "execution_count": null,
      "metadata": {
        "id": "dcxg7KM4tqhu"
      },
      "outputs": [],
      "source": [
        "city_data[columns_numeric].median()"
      ]
    },
    {
      "cell_type": "code",
      "execution_count": null,
      "metadata": {
        "id": "S6M52ckxtqhu"
      },
      "outputs": [],
      "source": [
        "city_data[columns_numeric].quantile(0.8)"
      ]
    },
    {
      "cell_type": "code",
      "execution_count": null,
      "metadata": {
        "id": "N7dS8_lotqhu"
      },
      "outputs": [],
      "source": [
        "city_data[columns_numeric].sum(axis = 1).head()"
      ]
    },
    {
      "cell_type": "code",
      "execution_count": null,
      "metadata": {
        "id": "9ISUWkmRtqhv"
      },
      "outputs": [],
      "source": [
        "city_data[columns_numeric].describe()"
      ]
    },
    {
      "cell_type": "code",
      "execution_count": null,
      "metadata": {
        "id": "Q-Zzv3cBtqhv"
      },
      "outputs": [],
      "source": [
        "city_data1 = city_data.sample(3)"
      ]
    },
    {
      "cell_type": "markdown",
      "metadata": {
        "id": "5NjxtE8-tqhv"
      },
      "source": [
        "### Concatanating data frames"
      ]
    },
    {
      "cell_type": "markdown",
      "source": [
        "concat two dataset, its pretty similar to join in sql"
      ],
      "metadata": {
        "id": "XiT_bMR-8XW1"
      }
    },
    {
      "cell_type": "code",
      "execution_count": null,
      "metadata": {
        "id": "_2xBbOuntqhv"
      },
      "outputs": [],
      "source": [
        "city_data2 = city_data.sample(3)\n",
        "city_data_combine = pd.concat([city_data1,city_data2])\n",
        "city_data_combine"
      ]
    },
    {
      "cell_type": "markdown",
      "source": [
        "remove duplicated rows, for training its better remove all diplicated values"
      ],
      "metadata": {
        "id": "lMN8k_JP8cRw"
      }
    },
    {
      "cell_type": "code",
      "execution_count": null,
      "metadata": {
        "id": "ORtPiH8gtqhv"
      },
      "outputs": [],
      "source": [
        "country_data = city_data[['iso3','country']].drop_duplicates()"
      ]
    },
    {
      "cell_type": "code",
      "execution_count": null,
      "metadata": {
        "id": "tmKg6fLGtqhw"
      },
      "outputs": [],
      "source": [
        "country_data.shape"
      ]
    },
    {
      "cell_type": "code",
      "execution_count": null,
      "metadata": {
        "id": "HgVbi_3gtqhw"
      },
      "outputs": [],
      "source": [
        "country_data.head()"
      ]
    },
    {
      "cell_type": "code",
      "execution_count": null,
      "metadata": {
        "id": "jc3SO25gtqhw"
      },
      "outputs": [],
      "source": [
        "del(city_data['country'])"
      ]
    },
    {
      "cell_type": "code",
      "execution_count": null,
      "metadata": {
        "id": "Lgtx3Shitqhw"
      },
      "outputs": [],
      "source": [
        "city_data.merge(country_data, 'inner').head()"
      ]
    },
    {
      "cell_type": "markdown",
      "metadata": {
        "id": "G_mupgyktqhw"
      },
      "source": [
        "# Scikit-learn"
      ]
    },
    {
      "cell_type": "code",
      "execution_count": 41,
      "metadata": {
        "id": "6mfzt5hgtqhw"
      },
      "outputs": [],
      "source": [
        "from sklearn import datasets\n",
        "diabetes = datasets.load_diabetes()\n",
        "X = diabetes.data[:10]\n",
        "y = diabetes.target"
      ]
    },
    {
      "cell_type": "code",
      "execution_count": 42,
      "metadata": {
        "colab": {
          "base_uri": "https://localhost:8080/"
        },
        "id": "il5dYl3gtqhx",
        "outputId": "9e82056e-4543-4897-a57b-63abdb3703fa"
      },
      "outputs": [
        {
          "output_type": "execute_result",
          "data": {
            "text/plain": [
              "array([[ 0.03807591,  0.05068012,  0.06169621,  0.02187239, -0.0442235 ,\n",
              "        -0.03482076, -0.04340085, -0.00259226,  0.01990749, -0.01764613],\n",
              "       [-0.00188202, -0.04464164, -0.05147406, -0.02632753, -0.00844872,\n",
              "        -0.01916334,  0.07441156, -0.03949338, -0.06833155, -0.09220405],\n",
              "       [ 0.08529891,  0.05068012,  0.04445121, -0.00567042, -0.04559945,\n",
              "        -0.03419447, -0.03235593, -0.00259226,  0.00286131, -0.02593034],\n",
              "       [-0.08906294, -0.04464164, -0.01159501, -0.03665608,  0.01219057,\n",
              "         0.02499059, -0.03603757,  0.03430886,  0.02268774, -0.00936191],\n",
              "       [ 0.00538306, -0.04464164, -0.03638469,  0.02187239,  0.00393485,\n",
              "         0.01559614,  0.00814208, -0.00259226, -0.03198764, -0.04664087]])"
            ]
          },
          "metadata": {},
          "execution_count": 42
        }
      ],
      "source": [
        "X[:5]"
      ]
    },
    {
      "cell_type": "code",
      "execution_count": 43,
      "metadata": {
        "colab": {
          "base_uri": "https://localhost:8080/"
        },
        "id": "gfIEJ0Idtqhx",
        "outputId": "b07801bf-6977-4a1d-fcc4-f7ac25489bc2"
      },
      "outputs": [
        {
          "output_type": "execute_result",
          "data": {
            "text/plain": [
              "array([151.,  75., 141., 206., 135.,  97., 138.,  63., 110., 310.])"
            ]
          },
          "metadata": {},
          "execution_count": 43
        }
      ],
      "source": [
        "y[:10]"
      ]
    },
    {
      "cell_type": "code",
      "execution_count": 44,
      "metadata": {
        "id": "X68Af7GHtqhx"
      },
      "outputs": [],
      "source": [
        "feature_names=['age', 'sex', 'bmi', 'bp',\n",
        "               's1', 's2', 's3', 's4', 's5', 's6']"
      ]
    },
    {
      "cell_type": "markdown",
      "metadata": {
        "id": "JifGbu15tqhx"
      },
      "source": [
        "## Scikit example regression"
      ]
    },
    {
      "cell_type": "markdown",
      "source": [
        "X = attributes | y = target | Lasso() tries to plot a line pretty close all points"
      ],
      "metadata": {
        "id": "9bf10F309Vwh"
      }
    },
    {
      "cell_type": "code",
      "execution_count": 45,
      "metadata": {
        "colab": {
          "base_uri": "https://localhost:8080/",
          "height": 75
        },
        "id": "eTSt4VBRtqhx",
        "outputId": "5f34e063-f07e-49ea-8d78-8e4bdc8c959a"
      },
      "outputs": [
        {
          "output_type": "execute_result",
          "data": {
            "text/plain": [
              "Lasso(random_state=0)"
            ],
            "text/html": [
              "<style>#sk-container-id-1 {color: black;background-color: white;}#sk-container-id-1 pre{padding: 0;}#sk-container-id-1 div.sk-toggleable {background-color: white;}#sk-container-id-1 label.sk-toggleable__label {cursor: pointer;display: block;width: 100%;margin-bottom: 0;padding: 0.3em;box-sizing: border-box;text-align: center;}#sk-container-id-1 label.sk-toggleable__label-arrow:before {content: \"▸\";float: left;margin-right: 0.25em;color: #696969;}#sk-container-id-1 label.sk-toggleable__label-arrow:hover:before {color: black;}#sk-container-id-1 div.sk-estimator:hover label.sk-toggleable__label-arrow:before {color: black;}#sk-container-id-1 div.sk-toggleable__content {max-height: 0;max-width: 0;overflow: hidden;text-align: left;background-color: #f0f8ff;}#sk-container-id-1 div.sk-toggleable__content pre {margin: 0.2em;color: black;border-radius: 0.25em;background-color: #f0f8ff;}#sk-container-id-1 input.sk-toggleable__control:checked~div.sk-toggleable__content {max-height: 200px;max-width: 100%;overflow: auto;}#sk-container-id-1 input.sk-toggleable__control:checked~label.sk-toggleable__label-arrow:before {content: \"▾\";}#sk-container-id-1 div.sk-estimator input.sk-toggleable__control:checked~label.sk-toggleable__label {background-color: #d4ebff;}#sk-container-id-1 div.sk-label input.sk-toggleable__control:checked~label.sk-toggleable__label {background-color: #d4ebff;}#sk-container-id-1 input.sk-hidden--visually {border: 0;clip: rect(1px 1px 1px 1px);clip: rect(1px, 1px, 1px, 1px);height: 1px;margin: -1px;overflow: hidden;padding: 0;position: absolute;width: 1px;}#sk-container-id-1 div.sk-estimator {font-family: monospace;background-color: #f0f8ff;border: 1px dotted black;border-radius: 0.25em;box-sizing: border-box;margin-bottom: 0.5em;}#sk-container-id-1 div.sk-estimator:hover {background-color: #d4ebff;}#sk-container-id-1 div.sk-parallel-item::after {content: \"\";width: 100%;border-bottom: 1px solid gray;flex-grow: 1;}#sk-container-id-1 div.sk-label:hover label.sk-toggleable__label {background-color: #d4ebff;}#sk-container-id-1 div.sk-serial::before {content: \"\";position: absolute;border-left: 1px solid gray;box-sizing: border-box;top: 0;bottom: 0;left: 50%;z-index: 0;}#sk-container-id-1 div.sk-serial {display: flex;flex-direction: column;align-items: center;background-color: white;padding-right: 0.2em;padding-left: 0.2em;position: relative;}#sk-container-id-1 div.sk-item {position: relative;z-index: 1;}#sk-container-id-1 div.sk-parallel {display: flex;align-items: stretch;justify-content: center;background-color: white;position: relative;}#sk-container-id-1 div.sk-item::before, #sk-container-id-1 div.sk-parallel-item::before {content: \"\";position: absolute;border-left: 1px solid gray;box-sizing: border-box;top: 0;bottom: 0;left: 50%;z-index: -1;}#sk-container-id-1 div.sk-parallel-item {display: flex;flex-direction: column;z-index: 1;position: relative;background-color: white;}#sk-container-id-1 div.sk-parallel-item:first-child::after {align-self: flex-end;width: 50%;}#sk-container-id-1 div.sk-parallel-item:last-child::after {align-self: flex-start;width: 50%;}#sk-container-id-1 div.sk-parallel-item:only-child::after {width: 0;}#sk-container-id-1 div.sk-dashed-wrapped {border: 1px dashed gray;margin: 0 0.4em 0.5em 0.4em;box-sizing: border-box;padding-bottom: 0.4em;background-color: white;}#sk-container-id-1 div.sk-label label {font-family: monospace;font-weight: bold;display: inline-block;line-height: 1.2em;}#sk-container-id-1 div.sk-label-container {text-align: center;}#sk-container-id-1 div.sk-container {/* jupyter's `normalize.less` sets `[hidden] { display: none; }` but bootstrap.min.css set `[hidden] { display: none !important; }` so we also need the `!important` here to be able to override the default hidden behavior on the sphinx rendered scikit-learn.org. See: https://github.com/scikit-learn/scikit-learn/issues/21755 */display: inline-block !important;position: relative;}#sk-container-id-1 div.sk-text-repr-fallback {display: none;}</style><div id=\"sk-container-id-1\" class=\"sk-top-container\"><div class=\"sk-text-repr-fallback\"><pre>Lasso(random_state=0)</pre><b>In a Jupyter environment, please rerun this cell to show the HTML representation or trust the notebook. <br />On GitHub, the HTML representation is unable to render, please try loading this page with nbviewer.org.</b></div><div class=\"sk-container\" hidden><div class=\"sk-item\"><div class=\"sk-estimator sk-toggleable\"><input class=\"sk-toggleable__control sk-hidden--visually\" id=\"sk-estimator-id-1\" type=\"checkbox\" checked><label for=\"sk-estimator-id-1\" class=\"sk-toggleable__label sk-toggleable__label-arrow\">Lasso</label><div class=\"sk-toggleable__content\"><pre>Lasso(random_state=0)</pre></div></div></div></div></div>"
            ]
          },
          "metadata": {},
          "execution_count": 45
        }
      ],
      "source": [
        "from sklearn import datasets\n",
        "from sklearn.linear_model import Lasso\n",
        "\n",
        "from sklearn import linear_model, datasets\n",
        "from sklearn.model_selection import GridSearchCV\n",
        "\n",
        "diabetes = datasets.load_diabetes()\n",
        "X_train = diabetes.data[:310]\n",
        "y_train = diabetes.target[:310]\n",
        "\n",
        "X_test = diabetes.data[310:]\n",
        "y_test = diabetes.target[310:]\n",
        "\n",
        "learner = Lasso(random_state=0)\n",
        "alphas = np.logspace(-4, -0.5, 30)\n",
        "\n",
        "learner.fit(X_train, y_train)"
      ]
    },
    {
      "cell_type": "code",
      "execution_count": 46,
      "metadata": {
        "colab": {
          "base_uri": "https://localhost:8080/"
        },
        "id": "TL1FOd0ptqhx",
        "outputId": "78136a9b-e295-4bd0-bb08-33a9b0645e6d"
      },
      "outputs": [
        {
          "output_type": "execute_result",
          "data": {
            "text/plain": [
              "array([167.65740976, 169.41733534, 129.69001805, 188.50968503,\n",
              "       161.07613773, 140.22683569, 181.63125908, 147.46537223,\n",
              "       156.6244556 , 162.42686029, 173.00350182, 202.95389815,\n",
              "       218.21473297, 192.50670204, 175.56271442, 198.88069029,\n",
              "       158.32191972, 191.0334113 , 174.08378546, 125.64157893,\n",
              "       153.66199999, 128.00649334, 207.32108823, 158.86094006,\n",
              "       113.02173567, 116.57138682, 208.64338664, 148.43306144,\n",
              "       131.72426149, 163.30940035, 133.99719963, 163.48591879,\n",
              "       150.6351001 , 137.8465945 , 149.37123585, 149.79190025,\n",
              "       178.53976654, 141.80700947, 140.22683569, 109.83213345,\n",
              "       196.27739144, 117.03665774, 118.86206812, 176.62489451,\n",
              "       192.33941556, 136.38768825, 129.7431493 , 185.5209981 ,\n",
              "        93.13905725, 158.08414225, 162.86805614, 123.87687072,\n",
              "       189.1023203 , 148.98282441, 153.9221549 , 148.15695923,\n",
              "       223.41792389, 222.39899953, 181.07383847, 162.62397183,\n",
              "       109.83213345, 188.44708674, 139.09174823, 132.82772802,\n",
              "       138.81938813, 159.56061825, 190.71224395, 157.75954306,\n",
              "       159.63304194, 121.51924204, 142.6783984 , 115.32742198,\n",
              "       207.85305791, 134.73987342, 148.74867727, 135.47047885,\n",
              "       126.26733428, 120.82528878, 151.54862904, 137.46555551,\n",
              "       210.59383172,  96.13157299, 126.49304339, 121.28411602,\n",
              "       201.9481694 , 162.36785574, 107.26145947, 161.92533417,\n",
              "       171.80860436, 172.57244163, 155.2487658 , 120.72012845,\n",
              "       144.71811816, 206.23380407, 160.7979294 , 206.77115184,\n",
              "       103.60016771, 167.17563469, 153.1541169 , 157.40142683,\n",
              "       163.83347733, 154.029273  , 183.14395369, 138.53754947,\n",
              "       172.07526459, 159.21922971, 169.06068167, 160.11221569,\n",
              "       135.13369953, 106.56025707, 126.92862608, 173.79176101,\n",
              "       192.25457667, 142.44794324, 163.12645177, 129.83458024,\n",
              "       151.12592017, 137.52971459, 204.69662589, 130.55176652,\n",
              "       127.6983983 , 135.05923136, 189.43124351, 112.40939946,\n",
              "       136.01626465, 129.69001805, 104.15669615, 168.58853351,\n",
              "       139.28022326, 129.46485426, 179.94908516, 123.96675239])"
            ]
          },
          "metadata": {},
          "execution_count": 46
        }
      ],
      "source": [
        "y_pred = learner.predict(X_test)\n",
        "y_pred"
      ]
    },
    {
      "cell_type": "markdown",
      "source": [
        "MAE - Erro da reta"
      ],
      "metadata": {
        "id": "_Fntv13k_SuM"
      }
    },
    {
      "cell_type": "code",
      "execution_count": 47,
      "metadata": {
        "colab": {
          "base_uri": "https://localhost:8080/"
        },
        "id": "vRpkMjb6tqhy",
        "outputId": "3828edb6-8abe-469d-805c-c7f8d03aa844"
      },
      "outputs": [
        {
          "output_type": "execute_result",
          "data": {
            "text/plain": [
              "51.37622164032987"
            ]
          },
          "metadata": {},
          "execution_count": 47
        }
      ],
      "source": [
        "np.mean(abs(y_pred - y_test))"
      ]
    },
    {
      "cell_type": "code",
      "execution_count": null,
      "metadata": {
        "id": "mlTGzphetqhy"
      },
      "outputs": [],
      "source": []
    }
  ],
  "metadata": {
    "anaconda-cloud": {},
    "kernelspec": {
      "display_name": "Python 3",
      "language": "python",
      "name": "python3"
    },
    "language_info": {
      "codemirror_mode": {
        "name": "ipython",
        "version": 3
      },
      "file_extension": ".py",
      "mimetype": "text/x-python",
      "name": "python",
      "nbconvert_exporter": "python",
      "pygments_lexer": "ipython3",
      "version": "3.6.6"
    },
    "colab": {
      "provenance": [],
      "include_colab_link": true
    }
  },
  "nbformat": 4,
  "nbformat_minor": 0
}